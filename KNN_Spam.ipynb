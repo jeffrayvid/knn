{
 "cells": [
  {
   "cell_type": "markdown",
   "metadata": {},
   "source": [
    "# Implement KNN Classifier"
   ]
  },
  {
   "cell_type": "code",
   "execution_count": 1,
   "metadata": {},
   "outputs": [],
   "source": [
    "#import packages\n",
    "import numpy as np\n",
    "import pandas as pd\n",
    "from numpy.linalg import inv, norm\n",
    "import matplotlib.pyplot as plt\n",
    "\n",
    "#import data\n",
    "spam_train = pd.read_csv('spam_train.csv')\n",
    "spam_test = pd.read_csv('spam_test.csv')\n",
    "\n",
    "#create matrices\n",
    "spam_train_matrix = np.array(spam_train)\n",
    "spam_test_matrix = np.array(spam_test)\n",
    "\n",
    "train_shape = spam_train_matrix.shape\n",
    "numcol_train = train_shape[1]\n",
    "numrow_train = train_shape[0]\n",
    "\n",
    "test_shape = spam_test_matrix.shape\n",
    "numcol_test = test_shape[1]\n",
    "numrow_test = test_shape[0]\n",
    "\n",
    "#create vector y\n",
    "y_train = spam_train_matrix[:,(numcol_train-1)]\n",
    "#create x train matrix\n",
    "x_train = spam_train_matrix[:,:(numcol_train-1)]\n",
    "#create vector y\n",
    "y_test = spam_test_matrix[:,(numcol_test-1)]\n",
    "#create x test matrix\n",
    "x_test2 = spam_test_matrix[:,1:(numcol_test-1)]"
   ]
  },
  {
   "cell_type": "code",
   "execution_count": 2,
   "metadata": {},
   "outputs": [],
   "source": [
    "#Euc Distance = sqrt(Sum(A**2 - 2 (A * B) + B**2))\n",
    "\n",
    "#Create matrix with Euc Distace between test(rows) and train(columns)\n",
    "\n",
    "def euclidian_distance_efficient(test,train):\n",
    "    equation_factor = np.sum(np.square(test)[:,np.newaxis,:], axis=2) - 2 * test.dot(train.T) + np.sum(np.square(train), axis=1)\n",
    "    euc_dist = np.sqrt(equation_factor.astype(float))\n",
    "    return euc_dist"
   ]
  },
  {
   "cell_type": "code",
   "execution_count": 3,
   "metadata": {},
   "outputs": [],
   "source": [
    "#create euc distance matrix (Rows = test; Columns = train)\n",
    "euc_dist = euclidian_distance_efficient(x_test2,x_train)\n",
    "\n",
    "#Descriptive stats\n",
    "euc_dist_shape = euc_dist.shape\n",
    "numcol_euc_dist = euc_dist_shape[1]\n",
    "numrow_euc_dist = euc_dist_shape[0]"
   ]
  },
  {
   "cell_type": "code",
   "execution_count": 4,
   "metadata": {},
   "outputs": [],
   "source": [
    "#for each row in test data, find the column(index of training data) with the smallest Euc_Distance\n",
    "def KNN_accuracy(test,train,k):\n",
    "    y_values_test_noround = []\n",
    "\n",
    "    for row in range(numrow_euc_dist):\n",
    "        list = (euc_dist[row])\n",
    "        list_index = sorted(range(len(list)), key=lambda k: list[k])\n",
    "        list_index_k = list_index[:k]\n",
    "\n",
    "        KNN_output = []\n",
    "\n",
    "        for i in list_index_k:\n",
    "            KNN_output.append(y_train[i])\n",
    "\n",
    "        y_value = np.average(KNN_output)\n",
    "        y_values_test_noround.append(y_value)\n",
    "\n",
    "    y_values_test = np.rint(y_values_test_noround)\n",
    "    \n",
    "    yay = 0\n",
    "    nay = 0\n",
    "\n",
    "    for a,b in zip (y_values_test,y_test):\n",
    "        if a == b:\n",
    "            yay += 1\n",
    "        if a!= b:\n",
    "            nay += 1\n",
    "\n",
    "    return(yay / (yay + nay))"
   ]
  },
  {
   "cell_type": "code",
   "execution_count": 5,
   "metadata": {},
   "outputs": [
    {
     "name": "stdout",
     "output_type": "stream",
     "text": [
      "K = 1 | Accuracy = 0.7523\n",
      "K = 5 | Accuracy = 0.7549\n",
      "K = 11 | Accuracy = 0.7649\n",
      "K = 21 | Accuracy = 0.7466\n",
      "K = 41 | Accuracy = 0.7523\n",
      "K = 61 | Accuracy = 0.7375\n",
      "K = 81 | Accuracy = 0.7266\n",
      "K = 101 | Accuracy = 0.7288\n",
      "K = 201 | Accuracy = 0.7314\n",
      "K = 401 | Accuracy = 0.7197\n"
     ]
    }
   ],
   "source": [
    "k_values = [1, 5, 11, 21, 41, 61, 81, 101, 201, 401]\n",
    "\n",
    "for k in k_values:\n",
    "    KNN_acc = KNN_accuracy(x_test2, x_train, k)\n",
    "    print(\"K = \" + str(k) + \" | Accuracy = \" + str(round(KNN_acc,4)))"
   ]
  },
  {
   "cell_type": "code",
   "execution_count": 6,
   "metadata": {},
   "outputs": [],
   "source": [
    "#normalizing the data\n",
    "from scipy import stats\n",
    "\n",
    "x_train_norm = stats.zscore(x_train)"
   ]
  },
  {
   "cell_type": "code",
   "execution_count": 7,
   "metadata": {},
   "outputs": [],
   "source": [
    "x_test_norm = stats.zscore(np.float64(x_test2))"
   ]
  },
  {
   "cell_type": "code",
   "execution_count": 8,
   "metadata": {},
   "outputs": [],
   "source": [
    "#Euc Distance = sqrt(Sum(A**2 - 2 (A * B) + B**2))\n",
    "\n",
    "#Create matrix with Euc Distace between test(rows) and train(columns)\n",
    "\n",
    "def euclidian_distance_efficient(test,train):\n",
    "    equation_factor = np.sum(np.square(test)[:,np.newaxis,:], axis=2) - 2 * test.dot(train.T) + np.sum(np.square(train), axis=1)\n",
    "    euc_dist = np.sqrt(equation_factor.astype(float))\n",
    "    return euc_dist"
   ]
  },
  {
   "cell_type": "code",
   "execution_count": 18,
   "metadata": {},
   "outputs": [
    {
     "name": "stdout",
     "output_type": "stream",
     "text": [
      "<class 'numpy.ndarray'>\n",
      "(2301, 57)\n",
      "<class 'numpy.ndarray'>\n"
     ]
    }
   ],
   "source": [
    "#create euc distance matrix (Rows = test; Columns = train)\n",
    "euc_dist_norm = euclidian_distance_efficient(x_test_norm,x_train_norm)\n",
    "\n",
    "print(type(euc_dist_norm))\n",
    "print(x_test_norm.shape)\n",
    "print(type(x_test_norm))\n",
    "\n",
    "\n",
    "#Descriptive stats\n",
    "euc_dist_norm_shape = euc_dist_norm.shape\n",
    "numcol_euc_dist_norm = euc_dist_norm_shape[1]\n",
    "numrow_euc_dist_norm = euc_dist_norm_shape[0]"
   ]
  },
  {
   "cell_type": "code",
   "execution_count": 10,
   "metadata": {},
   "outputs": [],
   "source": [
    "#for each row in test data, find the column(index of training data) with the smallest Euc_Distance\n",
    "def KNN_accuracy_norm(test,train,k):\n",
    "    y_values_test_noround = []\n",
    "\n",
    "    for row in range(numrow_euc_dist_norm):\n",
    "        list = (euc_dist_norm[row])\n",
    "        list_index = sorted(range(len(list)), key=lambda k: list[k])\n",
    "        list_index_k = list_index[:k]\n",
    "\n",
    "        KNN_output = []\n",
    "\n",
    "        for i in list_index_k:\n",
    "            KNN_output.append(y_train[i])\n",
    "\n",
    "        y_value = np.average(KNN_output)\n",
    "        y_values_test_noround.append(y_value)\n",
    "\n",
    "    y_values_test = np.rint(y_values_test_noround)\n",
    "    \n",
    "    yay = 0\n",
    "    nay = 0\n",
    "\n",
    "    for a,b in zip (y_values_test,y_test):\n",
    "        if a == b:\n",
    "            yay += 1\n",
    "        if a!= b:\n",
    "            nay += 1\n",
    "\n",
    "    return(yay / (yay + nay))"
   ]
  },
  {
   "cell_type": "code",
   "execution_count": 11,
   "metadata": {},
   "outputs": [
    {
     "name": "stdout",
     "output_type": "stream",
     "text": [
      "K = 1 | Accuracy = 0.8231\n",
      "K = 5 | Accuracy = 0.8322\n",
      "K = 11 | Accuracy = 0.8748\n",
      "K = 21 | Accuracy = 0.8709\n",
      "K = 41 | Accuracy = 0.8705\n",
      "K = 61 | Accuracy = 0.8701\n",
      "K = 81 | Accuracy = 0.8696\n",
      "K = 101 | Accuracy = 0.864\n",
      "K = 201 | Accuracy = 0.8462\n",
      "K = 401 | Accuracy = 0.8144\n"
     ]
    }
   ],
   "source": [
    "k_values = [1, 5, 11, 21, 41, 61, 81, 101, 201, 401]\n",
    "\n",
    "for k in k_values:\n",
    "    KNN_acc = KNN_accuracy_norm(x_test_norm, x_train_norm, k)\n",
    "    print(\"K = \" + str(k) + \" | Accuracy = \" + str(round(KNN_acc,4)))"
   ]
  },
  {
   "cell_type": "code",
   "execution_count": 12,
   "metadata": {},
   "outputs": [],
   "source": [
    "def KNN_results(test,train,k,row):\n",
    "    '''   \n",
    "        for row in (euc_dist_norm[1]):\n",
    "            list = row.tolist()\n",
    "            list_index = sorted(range(len(list)), key=lambda k: list[k])\n",
    "            list_index_k = list_index[:k]\n",
    "\n",
    "            KNN_output = []\n",
    "\n",
    "            for i in list_index_k:\n",
    "                KNN_output.append(y_train[i])\n",
    "\n",
    "            return KNN_output\n",
    "\n",
    "\n",
    "        ###\n",
    "\n",
    "    '''\n",
    "    y_values_test_noround = []\n",
    "\n",
    "    list = (euc_dist_norm[row])\n",
    "    list_index = sorted(range(len(list)), key=lambda k: list[k])\n",
    "    list_index_k = list_index[:k]\n",
    "\n",
    "    KNN_output = []\n",
    "\n",
    "    for i in list_index_k:\n",
    "        KNN_output.append(y_train[i])\n",
    "\n",
    "    y_value = np.average(KNN_output)\n",
    "    y_values_test_noround.append(y_value)\n",
    "\n",
    "    y_values_test = np.rint(y_values_test_noround)\n",
    "    \n",
    "    #return int(y_values_test)\n",
    "    \n",
    "    if int(y_values_test) == 1:\n",
    "        return('Spam')\n",
    "    elif int(y_values_test) == 0:\n",
    "        return('no')\n",
    "        \n",
    "    ###\n",
    "        "
   ]
  },
  {
   "cell_type": "code",
   "execution_count": 13,
   "metadata": {},
   "outputs": [
    {
     "name": "stdout",
     "output_type": "stream",
     "text": [
      "t1: ['Spam', 'Spam', 'Spam', 'Spam', 'Spam', 'no', 'no', 'no', 'no', 'no']\n",
      "t2: ['Spam', 'Spam', 'Spam', 'Spam', 'Spam', 'Spam', 'Spam', 'no', 'no', 'no']\n",
      "t3: ['Spam', 'Spam', 'Spam', 'Spam', 'Spam', 'Spam', 'Spam', 'Spam', 'Spam', 'Spam']\n",
      "t4: ['Spam', 'Spam', 'Spam', 'Spam', 'no', 'no', 'Spam', 'Spam', 'Spam', 'Spam']\n",
      "t5: ['Spam', 'Spam', 'Spam', 'Spam', 'Spam', 'Spam', 'Spam', 'Spam', 'Spam', 'Spam']\n",
      "t6: ['Spam', 'Spam', 'Spam', 'no', 'no', 'Spam', 'Spam', 'Spam', 'Spam', 'Spam']\n",
      "t7: ['Spam', 'no', 'no', 'no', 'no', 'no', 'no', 'no', 'no', 'no']\n",
      "t8: ['Spam', 'Spam', 'Spam', 'Spam', 'Spam', 'Spam', 'Spam', 'Spam', 'Spam', 'Spam']\n",
      "t9: ['Spam', 'Spam', 'Spam', 'Spam', 'Spam', 'Spam', 'Spam', 'Spam', 'Spam', 'Spam']\n",
      "t10: ['Spam', 'Spam', 'Spam', 'Spam', 'Spam', 'Spam', 'Spam', 'Spam', 'Spam', 'Spam']\n",
      "t11: ['Spam', 'Spam', 'Spam', 'Spam', 'Spam', 'Spam', 'Spam', 'Spam', 'Spam', 'Spam']\n",
      "t12: ['Spam', 'Spam', 'Spam', 'Spam', 'Spam', 'Spam', 'Spam', 'Spam', 'Spam', 'Spam']\n",
      "t13: ['Spam', 'Spam', 'Spam', 'Spam', 'Spam', 'Spam', 'no', 'no', 'no', 'no']\n",
      "t14: ['no', 'Spam', 'Spam', 'Spam', 'no', 'no', 'no', 'no', 'no', 'no']\n",
      "t15: ['Spam', 'Spam', 'Spam', 'Spam', 'Spam', 'Spam', 'Spam', 'Spam', 'Spam', 'Spam']\n",
      "t16: ['Spam', 'Spam', 'Spam', 'Spam', 'Spam', 'Spam', 'Spam', 'Spam', 'Spam', 'Spam']\n",
      "t17: ['Spam', 'Spam', 'Spam', 'Spam', 'Spam', 'Spam', 'Spam', 'Spam', 'Spam', 'Spam']\n",
      "t18: ['Spam', 'Spam', 'Spam', 'Spam', 'Spam', 'Spam', 'Spam', 'no', 'no', 'no']\n",
      "t19: ['Spam', 'Spam', 'Spam', 'Spam', 'Spam', 'Spam', 'Spam', 'Spam', 'Spam', 'Spam']\n",
      "t20: ['no', 'Spam', 'Spam', 'Spam', 'Spam', 'Spam', 'Spam', 'Spam', 'Spam', 'Spam']\n",
      "t21: ['Spam', 'Spam', 'Spam', 'Spam', 'Spam', 'Spam', 'Spam', 'Spam', 'Spam', 'Spam']\n",
      "t22: ['Spam', 'Spam', 'Spam', 'Spam', 'Spam', 'Spam', 'no', 'no', 'no', 'no']\n",
      "t23: ['Spam', 'Spam', 'Spam', 'Spam', 'Spam', 'Spam', 'Spam', 'Spam', 'Spam', 'Spam']\n",
      "t24: ['no', 'no', 'Spam', 'Spam', 'Spam', 'Spam', 'Spam', 'Spam', 'Spam', 'Spam']\n",
      "t25: ['Spam', 'Spam', 'Spam', 'Spam', 'Spam', 'Spam', 'Spam', 'Spam', 'Spam', 'Spam']\n",
      "t26: ['Spam', 'Spam', 'Spam', 'Spam', 'Spam', 'Spam', 'Spam', 'Spam', 'Spam', 'Spam']\n",
      "t27: ['Spam', 'Spam', 'Spam', 'Spam', 'Spam', 'Spam', 'Spam', 'Spam', 'Spam', 'Spam']\n",
      "t28: ['Spam', 'Spam', 'Spam', 'Spam', 'Spam', 'Spam', 'Spam', 'Spam', 'Spam', 'Spam']\n",
      "t29: ['Spam', 'Spam', 'Spam', 'no', 'Spam', 'Spam', 'Spam', 'Spam', 'no', 'no']\n",
      "t30: ['Spam', 'Spam', 'Spam', 'Spam', 'no', 'no', 'no', 'no', 'no', 'no']\n",
      "t31: ['Spam', 'no', 'no', 'no', 'no', 'no', 'no', 'no', 'no', 'no']\n",
      "t32: ['Spam', 'Spam', 'Spam', 'Spam', 'no', 'Spam', 'Spam', 'Spam', 'no', 'no']\n",
      "t33: ['Spam', 'Spam', 'Spam', 'Spam', 'no', 'no', 'no', 'no', 'no', 'no']\n",
      "t34: ['Spam', 'Spam', 'no', 'Spam', 'no', 'no', 'no', 'no', 'no', 'no']\n",
      "t35: ['Spam', 'Spam', 'Spam', 'Spam', 'Spam', 'Spam', 'Spam', 'Spam', 'Spam', 'Spam']\n",
      "t36: ['Spam', 'Spam', 'Spam', 'Spam', 'Spam', 'Spam', 'Spam', 'Spam', 'Spam', 'Spam']\n",
      "t37: ['Spam', 'Spam', 'Spam', 'Spam', 'Spam', 'Spam', 'Spam', 'Spam', 'Spam', 'Spam']\n",
      "t38: ['Spam', 'Spam', 'Spam', 'Spam', 'Spam', 'Spam', 'Spam', 'Spam', 'Spam', 'Spam']\n",
      "t39: ['Spam', 'Spam', 'Spam', 'Spam', 'Spam', 'Spam', 'Spam', 'Spam', 'Spam', 'Spam']\n",
      "t40: ['no', 'no', 'no', 'no', 'no', 'no', 'no', 'no', 'no', 'no']\n",
      "t41: ['no', 'no', 'no', 'no', 'no', 'no', 'no', 'no', 'no', 'no']\n",
      "t42: ['Spam', 'Spam', 'Spam', 'Spam', 'Spam', 'Spam', 'Spam', 'Spam', 'no', 'no']\n",
      "t43: ['no', 'no', 'no', 'no', 'no', 'no', 'no', 'no', 'no', 'no']\n",
      "t44: ['no', 'no', 'no', 'no', 'no', 'no', 'no', 'no', 'no', 'no']\n",
      "t45: ['Spam', 'Spam', 'Spam', 'Spam', 'Spam', 'Spam', 'Spam', 'Spam', 'Spam', 'Spam']\n",
      "t46: ['Spam', 'Spam', 'Spam', 'Spam', 'Spam', 'Spam', 'Spam', 'Spam', 'Spam', 'Spam']\n",
      "t47: ['Spam', 'Spam', 'Spam', 'Spam', 'Spam', 'Spam', 'Spam', 'Spam', 'Spam', 'Spam']\n",
      "t48: ['Spam', 'Spam', 'Spam', 'Spam', 'Spam', 'Spam', 'Spam', 'Spam', 'Spam', 'Spam']\n",
      "t49: ['Spam', 'Spam', 'Spam', 'Spam', 'Spam', 'Spam', 'Spam', 'Spam', 'Spam', 'Spam']\n",
      "t50: ['Spam', 'Spam', 'Spam', 'Spam', 'Spam', 'Spam', 'Spam', 'Spam', 'Spam', 'Spam']\n"
     ]
    }
   ],
   "source": [
    "rows = list(range(0,50))\n",
    "k_values = [1, 5, 11, 21, 41, 61, 81, 101, 201, 401]\n",
    "\n",
    "for r in rows:\n",
    "    \n",
    "    KNN_res = []\n",
    "    \n",
    "    for k in k_values:\n",
    "        KNN_res.append(KNN_results(x_test_norm, x_train_norm, k, r))\n",
    "    \n",
    "    print(\"t\" + str(r + 1) + \": \" + str(KNN_res))"
   ]
  },
  {
   "cell_type": "code",
   "execution_count": null,
   "metadata": {},
   "outputs": [],
   "source": []
  }
 ],
 "metadata": {
  "kernelspec": {
   "display_name": "Python 3",
   "language": "python",
   "name": "python3"
  },
  "language_info": {
   "codemirror_mode": {
    "name": "ipython",
    "version": 3
   },
   "file_extension": ".py",
   "mimetype": "text/x-python",
   "name": "python",
   "nbconvert_exporter": "python",
   "pygments_lexer": "ipython3",
   "version": "3.6.5"
  }
 },
 "nbformat": 4,
 "nbformat_minor": 2
}
